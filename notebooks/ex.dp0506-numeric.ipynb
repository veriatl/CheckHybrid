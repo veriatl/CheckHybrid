{
 "cells": [
  {
   "cell_type": "code",
   "execution_count": 1,
   "source": [
    "import path\r\n",
    "import libs.checker as checker\r\n",
    "from control import *\r\n",
    "from z3 import *\r\n",
    "from scipy.signal import lti, step, impulse\r\n",
    "import scipy.signal as sig\r\n",
    "from matplotlib import pyplot as p"
   ],
   "outputs": [],
   "metadata": {}
  },
  {
   "cell_type": "markdown",
   "source": [
    "This example is borrowed and adapted from [1], design problem 5.6 on Pg. 360. The following transfer function represents the position control system of a DC motor:\n",
    "$$ H(s) = \\frac{K_1}{s^2+(K_1 K_2+1)s+K_1}$$\n",
    "\n",
    "[1] Richard C.. Dorf, and Robert H. Bishop. Modern control systems. Pearson Prentice Hall, 2016. Pg. 360"
   ],
   "metadata": {}
  },
  {
   "cell_type": "markdown",
   "source": [
    "With $K_1 = 121, K_2=0.14$, does the system can expect peak time $T_p \\le 0.5$ and $overshoot \\le 2\\%$ to a step input?"
   ],
   "metadata": {}
  },
  {
   "cell_type": "code",
   "execution_count": 2,
   "source": [
    "# Constants\r\n",
    "K1 = 121\r\n",
    "K2 = 0.14\r\n",
    "r = 1\r\n",
    "\r\n",
    "# Original Transfer function\r\n",
    "Hs_num = [K1]\r\n",
    "Hs_den = [1, K1*K2+1, K1]\r\n"
   ],
   "outputs": [],
   "metadata": {}
  },
  {
   "cell_type": "code",
   "execution_count": 3,
   "source": [
    "# Chars calculation\r\n",
    "wn_square = Hs_den[-1]\r\n",
    "two_zeta_wn = Hs_den[-2]\r\n",
    "\r\n",
    "omega_n = math.sqrt(wn_square)\r\n",
    "zeta = two_zeta_wn/(2*omega_n)\r\n",
    "\r\n",
    "print(f'zeta = {zeta}, omega_n = {omega_n}')"
   ],
   "outputs": [
    {
     "output_type": "stream",
     "name": "stdout",
     "text": [
      "zeta = 0.8154545454545455, omega_n = 11.0\n"
     ]
    }
   ],
   "metadata": {}
  },
  {
   "cell_type": "code",
   "execution_count": 4,
   "source": [
    "# Setup\r\n",
    "c = checker.Checker(zeta,omega_n)\r\n",
    "\r\n",
    "# Safety\r\n",
    "f = c.factory\r\n",
    "t = c.factory.t\r\n",
    "safety = And(f.overshoot <= 0.02, f.peak <= 0.5)\r\n",
    "\r\n",
    "# PO Generation\r\n",
    "c.auto_pog(safety)"
   ],
   "outputs": [],
   "metadata": {}
  },
  {
   "cell_type": "code",
   "execution_count": 5,
   "source": [
    "# Numerical Static Checking in Z3 SMT solver\r\n",
    "c.result()"
   ],
   "outputs": [
    {
     "output_type": "stream",
     "name": "stdout",
     "text": [
      "static checking result =  unsat\n"
     ]
    }
   ],
   "metadata": {}
  },
  {
   "cell_type": "markdown",
   "source": [
    "Here, the solver return unsat, which suggests the design met the requirment.\n",
    "\n",
    "Finally let us verify the design by plotting:"
   ],
   "metadata": {}
  },
  {
   "cell_type": "code",
   "execution_count": 6,
   "source": [
    "Hs = lti(Hs_num, Hs_den)\r\n",
    "t, s = step(Hs)\r\n",
    "p.plot(t, s, label='Hs')\r\n",
    "p.xlabel('Time / s')\r\n",
    "p.ylabel('Orientation / deg')\r\n",
    "p.legend()\r\n",
    "p.show()"
   ],
   "outputs": [
    {
     "output_type": "display_data",
     "data": {
      "image/png": "[encoded data removed]",
      "text/plain": [
       "<Figure size 432x288 with 1 Axes>"
      ]
     },
     "metadata": {
      "needs_background": "light"
     }
    }
   ],
   "metadata": {}
  }
 ],
 "metadata": {
  "orig_nbformat": 4,
  "language_info": {
   "name": "python",
   "version": "3.8.2",
   "mimetype": "text/x-python",
   "codemirror_mode": {
    "name": "ipython",
    "version": 3
   },
   "pygments_lexer": "ipython3",
   "nbconvert_exporter": "python",
   "file_extension": ".py"
  },
  "kernelspec": {
   "name": "python3",
   "display_name": "Python 3.8.2 64-bit"
  },
  "interpreter": {
   "hash": "95ab7303ed2746327945aa376054eddca8c4eca362915ff95db932dbe7e7ee41"
  }
 },
 "nbformat": 4,
 "nbformat_minor": 2
}