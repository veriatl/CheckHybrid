{
 "cells": [
  {
   "cell_type": "code",
   "execution_count": 1,
   "source": [
    "import path\r\n",
    "import libs.checker as checker\r\n",
    "from control import *\r\n",
    "from z3 import *\r\n",
    "from scipy.signal import lti, step\r\n",
    "import scipy.signal as sig"
   ],
   "outputs": [],
   "metadata": {}
  },
  {
   "cell_type": "markdown",
   "source": [
    "This example is borrowed and adapted from [1], which demonstrates a hybrid system design of a PD controller that drives a car position *p* to a desired position *r*, the design needs to satisfy a safety requirment: it never cross the desired position:\r\n",
    "$$\r\n",
    "\\forall t . p(t) \\le r\r\n",
    "$$\r\n",
    "\r\n",
    "The original design of the closed-loop function can be Laplace transformed into:\r\n",
    "$$\r\n",
    "H(s) = \\frac{K_d s + K_p}{s^2+K_d s + K_p}\r\n",
    "$$\r\n",
    "where $K_p = 2$ and $K_d = 0.14$\r\n",
    "\r\n",
    "We approximate it by a standard 2nd-order function:\r\n",
    "$$\r\n",
    "\\hat{H}(s) = \\frac{K_p}{s^2+K_d s + K_p}\r\n",
    "$$\r\n",
    "\r\n",
    "Using our numerical static checking, the design is found that doesn't met the safety requirement. In this case, our checker return *sat* and a counter example.\r\n",
    "\r\n",
    "This example also shows that it is advisble to use a numerical checker instead of symbolic checker for a full hybrid design, as it avoids complex computation and possible fruitless searching by SMT solving.\r\n",
    "\r\n",
    "[1] Jan-David Quesel, Stefan Mitsch, Sarah Loos, Nikos Aréchiga, and André Platzer. How to model and prove hybrid systems with KeYmaera: A tutorial on safety. STTT 18(1), pp. 67-91, 2016."
   ],
   "metadata": {}
  },
  {
   "cell_type": "code",
   "execution_count": 2,
   "source": [
    "# Constants\r\n",
    "Kp = 2\r\n",
    "Kd = 0.14\r\n",
    "r = 1"
   ],
   "outputs": [],
   "metadata": {}
  },
  {
   "cell_type": "code",
   "execution_count": 3,
   "source": [
    "import numpy as np\r\n",
    "tspan = np.arange(0, 100, 0.1).tolist()\r\n",
    "\r\n",
    "# Original Transfer function\r\n",
    "Hs_num = [Kd, Kp]\r\n",
    "Hs_den = [1, Kd, Kp]\r\n",
    "Hs = lti(Hs_num, Hs_den)\r\n",
    "t1, s1 = step(Hs, T=tspan)\r\n",
    "\r\n",
    "# Approximated transfer function\r\n",
    "Hs_hat_num = [Kp]\r\n",
    "Hs_hat_den = [1, Kd, Kp]\r\n",
    "Hs_hat = lti(Hs_hat_num, Hs_hat_den)\r\n",
    "t2, s2 = step(Hs_hat, T=tspan)"
   ],
   "outputs": [],
   "metadata": {}
  },
  {
   "cell_type": "markdown",
   "source": [
    "Next, let us static check the design *Hs_hat* against its desired safety requirement."
   ],
   "metadata": {}
  },
  {
   "cell_type": "code",
   "execution_count": 4,
   "source": [
    "# Chars calculation\r\n",
    "wn_square = Hs_hat_den[-1]\r\n",
    "two_zeta_wn = Hs_hat_den[-2]\r\n",
    "\r\n",
    "omega_n = math.sqrt(wn_square)\r\n",
    "zeta = two_zeta_wn/(2*omega_n)\r\n",
    "\r\n",
    "print(f'zeta = {zeta}, omega_n = {omega_n}')\r\n"
   ],
   "outputs": [
    {
     "output_type": "stream",
     "name": "stdout",
     "text": [
      "zeta = 0.049497474683058325, omega_n = 1.4142135623730951\n"
     ]
    }
   ],
   "metadata": {}
  },
  {
   "cell_type": "code",
   "execution_count": 5,
   "source": [
    "# Setup\r\n",
    "c = checker.Checker(zeta,omega_n)\r\n",
    "\r\n",
    "p = c.factory.y\r\n",
    "t = c.factory.t\r\n",
    "c.amp = 1           \r\n",
    "r = c.amp\r\n",
    "safety = p[t] <= r\r\n",
    "\r\n",
    "c.auto_pog(safety)"
   ],
   "outputs": [],
   "metadata": {}
  },
  {
   "cell_type": "code",
   "execution_count": 6,
   "source": [
    "# Numerical Static Checking in Z3 SMT solver\r\n",
    "c.result()"
   ],
   "outputs": [
    {
     "output_type": "stream",
     "name": "stdout",
     "text": [
      "static checking result =  sat\n",
      "static checking model =  [y = Store(Store(Store(K(Real, 1.4279114819?),\n",
      "                       38.4998640687?,\n",
      "                       0.9),\n",
      "                 38,\n",
      "                 0.1),\n",
      "           2.2241677454?,\n",
      "           1.8558229638?),\n",
      " ft = 0,\n",
      " t2 = 38,\n",
      " input = 1,\n",
      " steady = 1,\n",
      " rise = 0.4998640687?,\n",
      " settle = 65.7881455141?,\n",
      " peak = 2.2241677454?,\n",
      " overshoot = 0.8558229638?,\n",
      " dc = 1]\n"
     ]
    }
   ],
   "metadata": {}
  },
  {
   "cell_type": "markdown",
   "source": [
    "Here, the solver return sat, which suggests a counter example is found. \r\n",
    "\r\n",
    "We want to first ensure that the approximation preserves the main dynamics of the original transfer function:"
   ],
   "metadata": {}
  },
  {
   "cell_type": "code",
   "execution_count": 7,
   "source": [
    "from matplotlib import pyplot as p\r\n",
    "\r\n",
    "p.plot(t1, s1, label='Hs')\r\n",
    "p.plot(t2,s2, label='Hs_hat')\r\n",
    "p.xlabel('Time / s')\r\n",
    "p.ylabel('Position / m')\r\n",
    "p.legend()\r\n",
    "p.show()"
   ],
   "outputs": [
    {
     "output_type": "display_data",
     "data": {
      "image/png": "[encoded data removed]",
      "text/plain": [
       "<Figure size 432x288 with 1 Axes>"
      ]
     },
     "metadata": {
      "needs_background": "light"
     }
    }
   ],
   "metadata": {}
  },
  {
   "cell_type": "markdown",
   "source": [
    "The plot showing that *Hs_hat* is a close approximation of *Hs*.\r\n",
    "\r\n",
    "Now, by examing the counterexample: we find that the time-series *y* has a peak value of *1.8558229638?*, which is outside of the safe range and therefore violating the safety requirement."
   ],
   "metadata": {}
  }
 ],
 "metadata": {
  "orig_nbformat": 4,
  "language_info": {
   "name": "python",
   "version": "3.8.2",
   "mimetype": "text/x-python",
   "codemirror_mode": {
    "name": "ipython",
    "version": 3
   },
   "pygments_lexer": "ipython3",
   "nbconvert_exporter": "python",
   "file_extension": ".py"
  },
  "kernelspec": {
   "name": "python3",
   "display_name": "Python 3.8.2 64-bit"
  },
  "interpreter": {
   "hash": "95ab7303ed2746327945aa376054eddca8c4eca362915ff95db932dbe7e7ee41"
  }
 },
 "nbformat": 4,
 "nbformat_minor": 2
}