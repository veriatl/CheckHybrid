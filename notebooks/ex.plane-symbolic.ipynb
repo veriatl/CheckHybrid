{
 "cells": [
  {
   "cell_type": "code",
   "execution_count": 2,
   "source": [
    "import path\r\n",
    "import libs.checker as checker\r\n",
    "import libs.dReal as dReal\r\n",
    "from control import *\r\n",
    "from z3 import *\r\n",
    "from scipy.signal import lti, step\r\n",
    "import scipy.signal as sig\r\n",
    "from matplotlib import pyplot as p"
   ],
   "outputs": [],
   "metadata": {}
  },
  {
   "cell_type": "markdown",
   "source": [
    "This example is borrowed and adapted from [1], which aims to control the bank of an airplane by using a aileron actuator, the design needs to satisfy a time-domain requirment: no overshoot.\r\n",
    "\r\n",
    "Using our symbolic static checking, the design is found that doesn't met the safety requirement. In this case, our checker return *sat* and a counter example.\r\n",
    "\r\n",
    "[1] Richard C.. Dorf, and Robert H. Bishop. Modern control systems. Pearson Prentice Hall, 2016. Section 5.9. "
   ],
   "metadata": {}
  },
  {
   "cell_type": "markdown",
   "source": [
    "The original closed-loop transfer function is given by *Hs*, which can be represented by a 3-order transfer function:\r\n",
    "$$\r\n",
    "H(s) = \\frac{114 K}{s^3 + 11.4 s^2 + 14 s + 114 K}\r\n",
    "$$\r\n",
    "\r\n",
    "The approximated transfer function can be obtained by using a *same frequency response method*:\r\n",
    "$$\r\n",
    "\\hat{H}(s) = \\frac{11.29 K}{s^2+\\sqrt{1.92-2.91K} + 11.29K}\r\n",
    "$$\r\n",
    "\r\n",
    "The question is that: with $ 0 < K < 0.65$, can we always have no overshoot design"
   ],
   "metadata": {}
  },
  {
   "cell_type": "markdown",
   "source": [
    "Now, let us start to perform symbolic checking:"
   ],
   "metadata": {}
  },
  {
   "cell_type": "code",
   "execution_count": 3,
   "source": [
    "# Define Constants Symbolically\r\n",
    "Kp = Real('Kp')\r\n",
    "zeta =  Real('zeta')\r\n",
    "omega_n = Real('omega_n')\r\n",
    "r = Real('r')\r\n",
    "wn_square = omega_n * omega_n\r\n",
    "\r\n",
    "f0 = And(Kp > 0, Kp < 0.65, r==1.0)\r\n",
    "f1 = zeta * zeta == 0.043 / Kp - 0.065\r\n",
    "f2 = omega_n * omega_n == 11.29 * Kp\r\n",
    "f3 = zeta >= 0\r\n",
    "f4 = omega_n >= 0\r\n",
    "f5 = And(f0,f1,f2,f3,f4)\r\n",
    "\r\n",
    "# Setup\r\n",
    "c = checker.Checker(zeta,omega_n)\r\n",
    "\r\n",
    "f = c.factory\r\n",
    "safety = f.overshoot == 0\r\n",
    "\r\n",
    "c.add(f5)\r\n",
    "c.auto_pog(safety)\r\n"
   ],
   "outputs": [],
   "metadata": {}
  },
  {
   "cell_type": "code",
   "execution_count": 4,
   "source": [
    "# Symbolic checking result\r\n",
    "c.result()"
   ],
   "outputs": [
    {
     "output_type": "stream",
     "name": "stdout",
     "text": [
      "static checking result =  sat\n",
      "static checking model =  [peak = 1.8845717715?,\n",
      " t = 8,\n",
      " temp = 0.9520920037?,\n",
      " y = Store(Store(Store(K(Real, -1), 1.8845717715?, 1.5),\n",
      "                 0,\n",
      "                 0.1),\n",
      "           0.7203161967?,\n",
      "           0.9),\n",
      " Kp = 0.2712577502?,\n",
      " zeta = 0.3058117334?,\n",
      " t2 = 0,\n",
      " omega_n = 1.75,\n",
      " overshoot = 0.5,\n",
      " input = 1,\n",
      " steady = 1,\n",
      " rise = 0.7203161967?,\n",
      " settle = 8.5953910229?,\n",
      " dc = 1,\n",
      " r = 1,\n",
      " /0 = [(3.14, 1.6661610066?) -> 1.8845717715?,\n",
      "       (4.6, 0.5351705335?) -> 8.5953910229?,\n",
      "       (3.0625, 3.0625) -> 1,\n",
      "       (1.2605533442?, 1.75) -> 0.7203161967?,\n",
      "       else -> 0.1585208163?]]\n"
     ]
    }
   ],
   "metadata": {}
  },
  {
   "cell_type": "markdown",
   "source": [
    "Now, checking result returns *sat*, and a counter example is shown.\n",
    "\n",
    "However, since we use *EMp_3* insteand of *EMp_1*, we lose the analytical estimation of overshoot, the overshoot number given by the counterexample is not correct.\n",
    "\n",
    "Thus, we need to numerically static check the example with returned characteristics $\\zeta$ and $\\omega_n$ from the symbolic checking, to confirm this is indeed a counterexample by calibrating the overshoot:"
   ],
   "metadata": {}
  },
  {
   "cell_type": "code",
   "execution_count": 5,
   "source": [
    "import libs.metrics as metrics\r\n",
    "\r\n",
    "# model calibration\r\n",
    "c.amp = 1\r\n",
    "new_checker = c.calibrate()\r\n"
   ],
   "outputs": [
    {
     "output_type": "stream",
     "name": "stdout",
     "text": [
      "static checking result =  sat\n",
      "static checking model =  [y = Store(Store(Store(K(Real, 1.3645531752?), -38, 0),\n",
      "                 7719.7203175571?,\n",
      "                 0.9),\n",
      "           7719,\n",
      "           0.1),\n",
      " ft = -38,\n",
      " t2 = 7719,\n",
      " input = 1,\n",
      " steady = 1,\n",
      " rise = 0.7203175571?,\n",
      " settle = 8.6050208278?,\n",
      " peak = 1.8855283548?,\n",
      " overshoot = 0.3645531752?,\n",
      " dc = 1]\n"
     ]
    }
   ],
   "metadata": {}
  },
  {
   "cell_type": "markdown",
   "source": [
    "Before we continue investigating, let us first have a look at the plots to ensure *Hs_hat* preserve the main characteristics of *Hs*:"
   ],
   "metadata": {}
  },
  {
   "cell_type": "code",
   "execution_count": 6,
   "source": [
    "# Original system\r\n",
    "v_omega = new_checker.omega_n\r\n",
    "K = v_omega * v_omega / 11.29\r\n",
    "\r\n",
    "Hs_num = [114*K]\r\n",
    "Hs_den = [1, 11.4, 14, 114*K]\r\n",
    "Hs = lti(Hs_num, Hs_den)\r\n",
    "t, s = step(Hs)\r\n",
    "\r\n",
    "Hs_hat_num = [11.29*K]\r\n",
    "Hs_hat_den = [1, math.sqrt(1.92-2.91*K), 11.29*K]\r\n",
    "Hs_hat = lti(Hs_hat_num, Hs_hat_den)\r\n",
    "t2, s2 = step(Hs_hat)"
   ],
   "outputs": [],
   "metadata": {}
  },
  {
   "cell_type": "code",
   "execution_count": 7,
   "source": [
    "p.plot(t, s, label='Hs')\r\n",
    "p.plot(t2,s2, label='Hs_hat')\r\n",
    "p.xlabel('Time / s')\r\n",
    "p.ylabel('Bank Angle / deg')\r\n",
    "p.legend()\r\n",
    "p.show()"
   ],
   "outputs": [
    {
     "output_type": "display_data",
     "data": {
      "image/png": "[encoded data removed]",
      "text/plain": [
       "<Figure size 432x288 with 1 Axes>"
      ]
     },
     "metadata": {
      "needs_background": "light"
     }
    }
   ],
   "metadata": {}
  },
  {
   "cell_type": "markdown",
   "source": [
    "The plot confirm the approximation preserves the significant dynamics of the original system, and the counterexample found by the SMT solving witness the requirement violation (i.e. within the given bound of K, it could have overshoot)."
   ],
   "metadata": {}
  },
  {
   "cell_type": "code",
   "execution_count": 8,
   "source": [
    "overshoot = new_checker.model(new_checker.factory.overshoot)\r\n",
    "print(f\"with K={K}, the system estimated to have overshoot of {overshoot}\")"
   ],
   "outputs": [
    {
     "output_type": "stream",
     "name": "stdout",
     "text": [
      "with K=0.27125775022143495, the system estimated to have overshoot of 0.3645531752454516\n"
     ]
    }
   ],
   "metadata": {}
  }
 ],
 "metadata": {
  "orig_nbformat": 4,
  "language_info": {
   "name": "python",
   "version": "3.8.2",
   "mimetype": "text/x-python",
   "codemirror_mode": {
    "name": "ipython",
    "version": 3
   },
   "pygments_lexer": "ipython3",
   "nbconvert_exporter": "python",
   "file_extension": ".py"
  },
  "kernelspec": {
   "name": "python3",
   "display_name": "Python 3.8.2 64-bit"
  },
  "interpreter": {
   "hash": "95ab7303ed2746327945aa376054eddca8c4eca362915ff95db932dbe7e7ee41"
  }
 },
 "nbformat": 4,
 "nbformat_minor": 2
}