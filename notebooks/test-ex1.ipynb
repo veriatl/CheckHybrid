{
 "cells": [
  {
   "cell_type": "code",
   "execution_count": 1,
   "source": [
    "import path\r\n",
    "from libs.formula2 import Formula\r\n",
    "import libs.checker as checker\r\n",
    "from control import *\r\n",
    "from z3 import *\r\n",
    "from scipy.signal import lti, step\r\n",
    "import scipy.signal as sig\r\n",
    "from matplotlib import pyplot as p"
   ],
   "outputs": [],
   "metadata": {}
  },
  {
   "cell_type": "markdown",
   "source": [
    "This example is borrowed and adapted from [1], which demonstrates a hybrid system design of a PD controller that drives a car to a desired position *r*, the design needs to satisfy a safety requirment: it never cross the desired position.\n",
    "\n",
    "Using our numerical static checking, the design is found that doesn't met the safety requirement. In this case, our checker return *sat* and a counter example.\n",
    "\n",
    "This example also shows that it is advisble to use a numerical checker instead of symbolic checker for a full hybrid design, as it avoids complex computation and possible fruitless searching by SMT solving (example can be found in ex.car.sym.unknown.ipynb).\n",
    "\n",
    "[1] Jan-David Quesel, Stefan Mitsch, Sarah Loos, Nikos Aréchiga, and André Platzer. How to model and prove hybrid systems with KeYmaera: A tutorial on safety. STTT 18(1), pp. 67-91, 2016."
   ],
   "metadata": {}
  },
  {
   "cell_type": "code",
   "execution_count": 2,
   "source": [
    "# Constants\r\n",
    "Kp = 2\r\n",
    "Kd = 0.14\r\n",
    "r = 1"
   ],
   "outputs": [],
   "metadata": {}
  },
  {
   "cell_type": "code",
   "execution_count": 3,
   "source": [
    "# Original Transfer function\r\n",
    "Hs_num = [Kd, Kp]\r\n",
    "Hs_den = [1, Kd, Kp]\r\n",
    "Hs = lti(Hs_num, Hs_den)\r\n",
    "t, s = step(Hs)\r\n",
    "\r\n",
    "# Approximated transfer function\r\n",
    "Hs_hat_num = [Kp]\r\n",
    "Hs_hat_den = [1, Kd, Kp]\r\n",
    "Hs_hat = lti(Hs_hat_num, Hs_hat_den)\r\n",
    "t2, s2 = step(Hs_hat)"
   ],
   "outputs": [],
   "metadata": {}
  },
  {
   "cell_type": "markdown",
   "source": [
    "As the original one *Hs* is not a standard 2nd-order transfer function, we approximate *Hs* to *Hs_hat* (2nd-order). Then, we can perform time-domain metrics estimations and static checking on *Hs_hat*.Ideally, the appxoimated transfer function should preserve the main characteristics of the original one. Otherwise, the estimations and static checking result on *Hs_hat* would not be representatitive for *Hs*. Thus, let's have a look the step response of the two transfer function."
   ],
   "metadata": {}
  },
  {
   "cell_type": "code",
   "execution_count": 4,
   "source": [
    "p.plot(t, s, label='Hs')\r\n",
    "p.plot(t2,s2, label='Hs_hat')\r\n",
    "p.xlabel('Time / s')\r\n",
    "p.ylabel('Position / m')\r\n",
    "p.legend()\r\n",
    "p.show()"
   ],
   "outputs": [
    {
     "output_type": "display_data",
     "data": {
      "image/png": "[encoded data removed]",
      "text/plain": [
       "<Figure size 432x288 with 1 Axes>"
      ]
     },
     "metadata": {
      "needs_background": "light"
     }
    }
   ],
   "metadata": {}
  },
  {
   "cell_type": "markdown",
   "source": [
    "The plot showing that *Hs_hat* is a close approximation of *Hs*.\n",
    "\n",
    "Next, let us static check the design *Hs_hat* against its desired safety requirement."
   ],
   "metadata": {}
  },
  {
   "cell_type": "code",
   "execution_count": 5,
   "source": [
    "# Chars calculation\r\n",
    "wn_square = Hs_hat_den[-1]\r\n",
    "two_zeta_wn = Hs_hat_den[-2]\r\n",
    "\r\n",
    "omega_n = math.sqrt(wn_square)\r\n",
    "zeta = two_zeta_wn/(2*omega_n)\r\n",
    "\r\n",
    "print(f'zeta = {zeta}, omega_n = {omega_n}')\r\n"
   ],
   "outputs": [
    {
     "output_type": "stream",
     "name": "stdout",
     "text": [
      "zeta = 1.0606601717798212, omega_n = 1.4142135623730951\n"
     ]
    }
   ],
   "metadata": {}
  },
  {
   "cell_type": "code",
   "execution_count": 6,
   "source": [
    "# Setup\r\n",
    "c = checker.Checker(zeta,omega_n)\r\n",
    "\r\n",
    "p = c.factory.y\r\n",
    "t = c.factory.t\r\n",
    "r = c.amp\r\n",
    "safety = p[t] <= r\r\n",
    "\r\n",
    "c.auto_pog(safety)\r\n"
   ],
   "outputs": [],
   "metadata": {}
  },
  {
   "cell_type": "code",
   "execution_count": 7,
   "source": [
    "import numpy \r\n",
    "\r\n",
    "x = numpy.linspace(0,0.99,100)\r\n",
    "pow = (- numpy.pi * x) / (numpy.sqrt(1-x**2))\r\n",
    "y = numpy.sqrt((1/x**2)-1)\r\n",
    "from matplotlib import pyplot as p\r\n",
    "p.plot(x, y, label='Hs')\r\n",
    "p.xlabel('Time / s')\r\n",
    "p.ylabel('Position / m')\r\n",
    "p.legend()\r\n",
    "p.show()"
   ],
   "outputs": [
    {
     "output_type": "stream",
     "name": "stderr",
     "text": [
      "<ipython-input-7-0fd1e298b267>:5: RuntimeWarning: divide by zero encountered in true_divide\n",
      "  y = numpy.sqrt((1/x**2)-1)\n"
     ]
    },
    {
     "output_type": "display_data",
     "data": {
      "image/png": "[encoded data removed]",
      "text/plain": [
       "<Figure size 432x288 with 1 Axes>"
      ]
     },
     "metadata": {
      "needs_background": "light"
     }
    }
   ],
   "metadata": {}
  },
  {
   "cell_type": "code",
   "execution_count": 8,
   "source": [
    "import numpy \r\n",
    "\r\n",
    "x = 0.078125\r\n",
    "pow = (- numpy.pi * x) / (numpy.sqrt(1-x**2))\r\n",
    "ovst =  numpy.exp(pow)\r\n",
    "print(ovst)"
   ],
   "outputs": [
    {
     "output_type": "stream",
     "name": "stdout",
     "text": [
      "0.7817741535389658\n"
     ]
    }
   ],
   "metadata": {}
  }
 ],
 "metadata": {
  "orig_nbformat": 4,
  "language_info": {
   "name": "python",
   "version": "3.8.2",
   "mimetype": "text/x-python",
   "codemirror_mode": {
    "name": "ipython",
    "version": 3
   },
   "pygments_lexer": "ipython3",
   "nbconvert_exporter": "python",
   "file_extension": ".py"
  },
  "kernelspec": {
   "name": "python3",
   "display_name": "Python 3.8.2 64-bit"
  },
  "interpreter": {
   "hash": "95ab7303ed2746327945aa376054eddca8c4eca362915ff95db932dbe7e7ee41"
  }
 },
 "nbformat": 4,
 "nbformat_minor": 2
}