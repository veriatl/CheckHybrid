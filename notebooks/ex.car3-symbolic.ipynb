{
 "cells": [
  {
   "cell_type": "code",
   "execution_count": 1,
   "source": [
    "import path\r\n",
    "import libs.checker as checker\r\n",
    "from control import *\r\n",
    "from z3 import *"
   ],
   "outputs": [],
   "metadata": {}
  },
  {
   "cell_type": "markdown",
   "source": [
    "This example is borrowed and adapted from [1], which demonstrates a hybrid system design of a PD controller that drives a car position *p* to a desired position *r*, the design needs to satisfy a safety requirment: it never cross the desired position:\r\n",
    "$$\r\n",
    "\\forall t . p(t) \\le r\r\n",
    "$$\r\n",
    "\r\n",
    "The original design of the closed-loop function can be Laplace transformed into:\r\n",
    "$$\r\n",
    "H(s) = \\frac{K_d s + K_p}{s^2+K_d s + K_p}\r\n",
    "$$\r\n",
    "where $K_p <= 2$ and $K_d > 0$ and $5 K_d < K_p$\r\n",
    "\r\n",
    "We approximate it by a standard 2nd-order function:\r\n",
    "$$\r\n",
    "\\hat{H}(s) = \\frac{K_p}{s^2+K_d s + K_p}\r\n",
    "$$\r\n",
    "\r\n",
    "Using our symbolic static checking, the design is found that doesn't met the safety requirement. In this case, our checker return *sat* and a counter example.\r\n",
    "\r\n",
    "[1] Jan-David Quesel, Stefan Mitsch, Sarah Loos, Nikos Aréchiga, and André Platzer. How to model and prove hybrid systems with KeYmaera: A tutorial on safety. STTT 18(1), pp. 67-91, 2016."
   ],
   "metadata": {}
  },
  {
   "cell_type": "code",
   "execution_count": 2,
   "source": [
    "# Constants\r\n",
    "Kp = Real('Kp')\r\n",
    "Kd = Real('Kd')\r\n",
    "r = Real('r')\r\n",
    "zeta =  Real('zeta')\r\n",
    "omega_n = Real('omega_n')\r\n",
    "\r\n",
    "# Approximated Design\r\n",
    "f1 = Kp == omega_n * omega_n\r\n",
    "f2 = Kd == (2*omega_n*zeta)\r\n",
    "f3 = zeta >= 0\r\n",
    "f4 = Kp <= 2\r\n",
    "f5 = omega_n > 0\r\n",
    "f6 = Kd > 0\r\n",
    "f7 = 5 * Kd < Kp\r\n",
    "context = And(f1,f2,f3,f4,f5,f6, f7)"
   ],
   "outputs": [],
   "metadata": {}
  },
  {
   "cell_type": "code",
   "execution_count": 3,
   "source": [
    "# Setup\r\n",
    "c = checker.Checker(zeta,omega_n, 1)\r\n",
    "\r\n",
    "p = c.factory.y\r\n",
    "t = c.factory.t\r\n",
    "r = c.amp\r\n",
    "safety = p[t] <= r\r\n",
    "\r\n",
    "c.auto_pog(safety, context)"
   ],
   "outputs": [],
   "metadata": {}
  },
  {
   "cell_type": "code",
   "execution_count": 4,
   "source": [
    "# Numerical Static Checking in Z3 SMT solver\r\n",
    "c.result()"
   ],
   "outputs": [
    {
     "output_type": "stream",
     "name": "stdout",
     "text": [
      "static checking result =  sat\n",
      "static checking model =  [peak = 3.1461508384?,\n",
      " t = 72,\n",
      " temp = 0.9980449639?,\n",
      " y = Store(Store(Store(K(Real, 1.5), 3.1461508384?, 1.75),\n",
      "                 0.735,\n",
      "                 0.9),\n",
      "           0,\n",
      "           0.1),\n",
      " zeta = 0.0625,\n",
      " t2 = 0,\n",
      " omega_n = 1,\n",
      " overshoot = 0.75,\n",
      " input = 1,\n",
      " steady = 1,\n",
      " rise = 0.735,\n",
      " settle = 73.6,\n",
      " dc = 1,\n",
      " Kd = 0.125,\n",
      " Kp = 1,\n",
      " /0 = [(4.6, 0.0625) -> 73.6,\n",
      "       (1, 1) -> 1,\n",
      "       (0.735, 1) -> 0.735,\n",
      "       else -> 3.1461508384?]]\n"
     ]
    }
   ],
   "metadata": {}
  },
  {
   "cell_type": "code",
   "execution_count": 5,
   "source": [
    "new_checker = c.calibrate()"
   ],
   "outputs": [
    {
     "output_type": "stream",
     "name": "stdout",
     "text": [
      "static checking result =  sat\n",
      "static checking model =  [t = 2,\n",
      " y = Store(Store(Store(Store(K(Real, 0.9), -38, 0), 2, 1.1),\n",
      "                 3.1477466117?,\n",
      "                 1.8214089649?),\n",
      "           7719,\n",
      "           0.1),\n",
      " ft = -38,\n",
      " t2 = 7719,\n",
      " input = 1,\n",
      " steady = 1,\n",
      " rise = 0.735,\n",
      " settle = 73.6827229758?,\n",
      " peak = 3.1477466117?,\n",
      " overshoot = 0.8214089649?,\n",
      " dc = 1]\n"
     ]
    }
   ],
   "metadata": {}
  },
  {
   "cell_type": "markdown",
   "source": [
    "Let us first confirm using the counterexample that the approximation preserves the significant dynamics of the original transfer function. \r\n",
    "\r\n",
    "Then, we use the counterexample, to plot the original design and witness its requirement violation."
   ],
   "metadata": {}
  },
  {
   "cell_type": "code",
   "execution_count": 6,
   "source": [
    "from matplotlib import pyplot as p\r\n",
    "from scipy.signal import lti, step\r\n",
    "import numpy as np\r\n",
    "import libs.z3model as z3model\r\n",
    "\r\n",
    "# model extraction\r\n",
    "v_r = new_checker.amp\r\n",
    "z = new_checker.zeta\r\n",
    "omg = new_checker.omega_n\r\n",
    "v_Kd = 2 * z * omg\r\n",
    "v_Kp = omg * omg\r\n",
    "\r\n",
    "# Original Transfer function\r\n",
    "Hs_num = [v_Kd, v_Kp]\r\n",
    "Hs_den = [1, v_Kd, v_Kp]\r\n",
    "Hs = lti(Hs_num, Hs_den)\r\n",
    "t, s = step(Hs)\r\n",
    "\r\n",
    "\r\n",
    "# Approx Transfer function\r\n",
    "Hs_num2 = [v_Kp]\r\n",
    "Hs_den2 = [1, v_Kd, v_Kp]\r\n",
    "Hs2 = lti(Hs_num2, Hs_den2)\r\n",
    "t2, s2 = step(Hs2)\r\n",
    "\r\n",
    "\r\n",
    "# plot\r\n",
    "p.plot(t, s, label='Hs')\r\n",
    "p.plot(t2, s2, label='Hs_hat')\r\n",
    "p.axhline(y=1, color='g', label='ref')\r\n",
    "p.xlabel('Time / s')\r\n",
    "p.ylabel('Position / m')\r\n",
    "p.legend()\r\n",
    "p.show()"
   ],
   "outputs": [
    {
     "output_type": "display_data",
     "data": {
      "image/png": "[encoded data removed]",
      "text/plain": [
       "<Figure size 432x288 with 1 Axes>"
      ]
     },
     "metadata": {
      "needs_background": "light"
     }
    }
   ],
   "metadata": {}
  }
 ],
 "metadata": {
  "orig_nbformat": 4,
  "language_info": {
   "name": "python",
   "version": "3.8.2",
   "mimetype": "text/x-python",
   "codemirror_mode": {
    "name": "ipython",
    "version": 3
   },
   "pygments_lexer": "ipython3",
   "nbconvert_exporter": "python",
   "file_extension": ".py"
  },
  "kernelspec": {
   "name": "python3",
   "display_name": "Python 3.8.2 64-bit"
  },
  "interpreter": {
   "hash": "95ab7303ed2746327945aa376054eddca8c4eca362915ff95db932dbe7e7ee41"
  }
 },
 "nbformat": 4,
 "nbformat_minor": 2
}