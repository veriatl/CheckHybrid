{
 "cells": [
  {
   "cell_type": "code",
   "execution_count": 1,
   "source": [
    "import path\r\n",
    "import libs.checker as checker\r\n",
    "from control import *\r\n",
    "from z3 import *\r\n",
    "from scipy.signal import lti, step, impulse\r\n",
    "import scipy.signal as sig\r\n",
    "from matplotlib import pyplot as p"
   ],
   "outputs": [],
   "metadata": {}
  },
  {
   "cell_type": "markdown",
   "source": [
    "This example is borrowed and adapted from [1], design problem 5.3 on Pg. 360. The following transfer function represents an active suspension system for modern cars to provide comfortable firm ride:\n",
    "$$ H(s) = \\frac{K}{s^2 + q s + K}$$\n",
    "\n",
    "[1] Richard C.. Dorf, and Robert H. Bishop. Modern control systems. Pearson Prentice Hall, 2016. Pg. 360"
   ],
   "metadata": {}
  },
  {
   "cell_type": "markdown",
   "source": [
    "The step input to the system could manifest a disturnbance, or a tracking to a reference. In these contexts, the main job of an active suspension system is to quickly settle to the final value. We therefore have the following requirement: with $q=17$ and $K$ being free variable, does the design always have the settling time (0.01% criterian) $T_s \\le 0.5$?"
   ],
   "metadata": {}
  },
  {
   "cell_type": "code",
   "execution_count": 2,
   "source": [
    "# Define Constants Symbolically\r\n",
    "K = Real('K')\r\n",
    "zeta =  Real('zeta')\r\n",
    "omega_n = Real('omega_n')\r\n",
    "r = Real('r')\r\n",
    "q = 17\r\n",
    "wn_square = omega_n * omega_n\r\n",
    "\r\n",
    "f0 = omega_n * omega_n == K\r\n",
    "f1 = q == 2 * zeta * omega_n\r\n",
    "context = And(f0,f1)"
   ],
   "outputs": [],
   "metadata": {}
  },
  {
   "cell_type": "code",
   "execution_count": 3,
   "source": [
    "\r\n",
    "# Setup\r\n",
    "c = checker.Checker(zeta,omega_n)\r\n",
    "\r\n",
    "# Safety\r\n",
    "f = c.factory\r\n",
    "safety = f.settle < 0.5\r\n",
    "\r\n",
    "# PO generation\r\n",
    "c.auto_pog(safety, context)"
   ],
   "outputs": [],
   "metadata": {}
  },
  {
   "cell_type": "code",
   "execution_count": 4,
   "source": [
    "# Numerical Static Checking in Z3 SMT solver\r\n",
    "c.result()"
   ],
   "outputs": [
    {
     "output_type": "stream",
     "name": "stdout",
     "text": [
      "static checking result =  sat\n",
      "static checking model =  [peak = 1,\n",
      " t = -0.5,\n",
      " temp = 0.5625,\n",
      " y = Store(Store(Store(K(Real, -0.5), 1, 1), 0, 0.1),\n",
      "           0.0377107180?,\n",
      "           0.9),\n",
      " zeta = -0.5483870967?,\n",
      " t2 = 0,\n",
      " omega_n = -15.5,\n",
      " overshoot = 0,\n",
      " r = 1,\n",
      " steady = 1,\n",
      " input = 1,\n",
      " rise = 0.0377107180?,\n",
      " settle = 0.5411764705?,\n",
      " dc = 1,\n",
      " K = 240.25,\n",
      " /0 = [(240.25, 240.25) -> 1,\n",
      "       (-0.5845161290?, -15.5) -> 0.0377107180?,\n",
      "       else -> -0.3601433691?]]\n"
     ]
    }
   ],
   "metadata": {}
  },
  {
   "cell_type": "markdown",
   "source": [
    "A counterexample is found that at the given K, we have settling time of 0.54 which violates the requirement."
   ],
   "metadata": {}
  }
 ],
 "metadata": {
  "orig_nbformat": 4,
  "language_info": {
   "name": "python",
   "version": "3.8.2",
   "mimetype": "text/x-python",
   "codemirror_mode": {
    "name": "ipython",
    "version": 3
   },
   "pygments_lexer": "ipython3",
   "nbconvert_exporter": "python",
   "file_extension": ".py"
  },
  "kernelspec": {
   "name": "python3",
   "display_name": "Python 3.8.2 64-bit"
  },
  "interpreter": {
   "hash": "95ab7303ed2746327945aa376054eddca8c4eca362915ff95db932dbe7e7ee41"
  }
 },
 "nbformat": 4,
 "nbformat_minor": 2
}