{
 "cells": [
  {
   "cell_type": "code",
   "execution_count": null,
   "source": [
    "import path\r\n",
    "import libs.formulaSym2 as formulaSym\r\n",
    "import libs.dReal as dReal\r\n",
    "from control import *\r\n",
    "from z3 import *\r\n"
   ],
   "outputs": [],
   "metadata": {}
  },
  {
   "cell_type": "code",
   "execution_count": null,
   "source": [
    "# Constants\r\n",
    "Kp = Real('Kp')\r\n",
    "zeta =  Real('zeta')\r\n",
    "omega_n = Real('omega_n')\r\n",
    "\r\n",
    "f1 = zeta * zeta == 0.043 / Kp - 0.065\r\n",
    "f2 = omega_n * omega_n == 11.29 * Kp\r\n",
    "f3 = zeta >= 0\r\n",
    "\r\n",
    "# Setup\r\n",
    "f = formulaSym.Formula(zeta, omega_n)\r\n",
    "s = Solver()\r\n",
    "\r\n",
    "# Safety\r\n",
    "safety = f.overshoot == 0\r\n",
    "\r\n",
    "# PO generation\r\n",
    "s.add(f1, f2, f3)\r\n",
    "PO = Implies(And(f.EMp_1(), f.EMp_2()), safety)\r\n",
    "s.add(Not(PO))"
   ],
   "outputs": [],
   "metadata": {}
  },
  {
   "cell_type": "markdown",
   "source": [
    "Let us use dReal to solve this proof obligation via SMT2 interface:"
   ],
   "metadata": {}
  },
  {
   "cell_type": "code",
   "execution_count": null,
   "source": [
    "# solving in dReal\r\n",
    "dR = dReal.dReal()\r\n",
    "smt2 = dR.getSMT2(s.sexpr())\r\n",
    "dR.save(smt2)\r\n",
    "model = dR.exe()"
   ],
   "outputs": [],
   "metadata": {}
  },
  {
   "cell_type": "markdown",
   "source": [
    "As we can see, the *sat* suggests a counter-example is found. In this case, dReal find a *zeta* within the given range, it causes overshoot = 1.198..., which violates the safety requirement: overshoot = 0.\n",
    "\n",
    "Let us try the same proof obligation in Z3:"
   ],
   "metadata": {}
  },
  {
   "cell_type": "code",
   "execution_count": null,
   "source": [
    "# Symbolic Static Checking in Z3 SMT solver\r\n",
    "print(f\"static checking result =  {s.check()}\")\r\n",
    "if s.check() == sat:\r\n",
    "    print(f\"static checking model =  {s.model()}\")"
   ],
   "outputs": [],
   "metadata": {}
  },
  {
   "cell_type": "markdown",
   "source": [
    "As we can see, Z3 return *unknown* in this case. "
   ],
   "metadata": {}
  },
  {
   "cell_type": "markdown",
   "source": [
    "However, not all SMT2 syntax are supported by dReal (checked on Aug 28, 2021), e.g. Array, uninterpreted functions. Thus, it would be difficult for us to encode our static checker entirely into dReal.\n",
    "\n",
    "Therefore, it is advisable to perform interactive incremental checking for complex hybrid designs.\n"
   ],
   "metadata": {}
  }
 ],
 "metadata": {
  "orig_nbformat": 4,
  "language_info": {
   "name": "python",
   "version": "3.8.2",
   "mimetype": "text/x-python",
   "codemirror_mode": {
    "name": "ipython",
    "version": 3
   },
   "pygments_lexer": "ipython3",
   "nbconvert_exporter": "python",
   "file_extension": ".py"
  },
  "kernelspec": {
   "name": "python3",
   "display_name": "Python 3.8.2 64-bit"
  },
  "interpreter": {
   "hash": "95ab7303ed2746327945aa376054eddca8c4eca362915ff95db932dbe7e7ee41"
  }
 },
 "nbformat": 4,
 "nbformat_minor": 2
}