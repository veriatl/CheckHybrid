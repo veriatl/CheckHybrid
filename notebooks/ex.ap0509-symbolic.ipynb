{
 "cells": [
  {
   "cell_type": "code",
   "execution_count": 1,
   "source": [
    "import path\r\n",
    "import libs.checker as checker\r\n",
    "from control import *\r\n",
    "from z3 import *\r\n",
    "from scipy.signal import lti, step\r\n",
    "import scipy.signal as sig\r\n",
    "from matplotlib import pyplot as p\r\n",
    "import numpy"
   ],
   "outputs": [],
   "metadata": {}
  },
  {
   "cell_type": "markdown",
   "source": [
    "This example is borrowed and adapted from [1], advanced problem 5.9 on Pg. 359. Given a closed-loop system, which contains a PI controller:\n",
    "$$ K_p + \\frac{K_i}{s}$$\n",
    "and a process:\n",
    "$$\\frac{1}{s(s+15)(s+25)}$$\n",
    "\n",
    "The goal is to design the gains such that the dominant roots have a damping ratio of $\\zeta$ equals to 0.707, and settling time (2% criterian) less than 5 seconds to a step input.\n",
    "\n",
    "[1] Richard C.. Dorf, and Robert H. Bishop. Modern control systems. Pearson Prentice Hall, 2016. Pg. 359"
   ],
   "metadata": {}
  },
  {
   "cell_type": "markdown",
   "source": [
    "By block diagram algebra, we obtain the following closed-loop function:\n",
    "\n",
    "$$H(s) = \\frac{K_p s + K_i}{s^4+40s^3+375s^2+K_p s + K_i} $$\n",
    "\n",
    "By the problem constraints (i.e. the characteristic equation of H(s) need to have a dominent roots whose damping ratio = 0.707), we construct the following template:\n",
    "$$H(s) = \\frac{K_p s + K_i}{(s+a)(s+b)(s^2+\\sqrt{2}\\omega_n s + \\omega_n^2)} $$\n",
    "\n",
    "By aligning denominators, and constraints on the system:\n",
    " * $(s+a)(s+b)(s^2+\\sqrt{2}\\omega_n s + \\omega_n^2) = s^4+40s^3+375s^2+K_p s + K_i$\n",
    " * $a, b >> \\frac{\\sqrt{2}}{2} \\omega_n$ (to ensure root dominance)\n",
    " * $ t_s = - \\frac{ln(0.02)}{\\zeta \\omega_n} < 5 $ (to ensure the desired settling time)"
   ],
   "metadata": {}
  },
  {
   "cell_type": "markdown",
   "source": [
    "Tidy up constraints, we get:\r\n",
    "\r\n",
    " * $\\omega_n^2 ab =  K_i $\r\n",
    " * $\\omega_n^2(a+b) + \\sqrt{2}\\omega_n ab = K_p$\r\n",
    " * $\\sqrt{2}\\omega_n(a+b) + ab = 375$\r\n",
    " * $\\sqrt{2}\\omega_n + a + b = 40$\r\n",
    " * $a, b > 10*\\frac{\\sqrt{2}}{2} \\omega_n$\r\n",
    " * $ \\frac{3.91}{0.707 \\omega_n} < 5$\r\n",
    " "
   ],
   "metadata": {}
  },
  {
   "cell_type": "code",
   "execution_count": 2,
   "source": [
    "# Constants\r\n",
    "\r\n",
    "Kp = Real('Kp')\r\n",
    "Ki = Real('Ki')\r\n",
    "omega = Real('omega')\r\n",
    "a, b = Reals('a b')\r\n",
    "zeta = 0.707\r\n",
    "\r\n",
    "# Setup\r\n",
    "f1 = omega * omega * a * b == Ki\r\n",
    "f2 = (a+b)*omega*omega+1.414*omega*a*b == Kp\r\n",
    "f3 = 1.414*omega*(a+b)+a*b == 375\r\n",
    "f4 = 1.414*omega + a + b == 40\r\n",
    "f5 = And(a > 10*0.707*omega, b > 10*0.707*omega)\r\n",
    "f6 = omega > 0\r\n",
    "f7 = (-numpy.log(0.02) / (0.707 * omega)) < 5\r\n",
    "\r\n",
    "f8 = And(f1,f2,f3,f4,f5,f6,f7) # we want solve satisfication problem instead of validity problem here"
   ],
   "outputs": [],
   "metadata": {}
  },
  {
   "cell_type": "code",
   "execution_count": 3,
   "source": [
    "# Setup\r\n",
    "c = checker.Checker(zeta,omega)\r\n",
    "c.add(f8)\r\n"
   ],
   "outputs": [],
   "metadata": {}
  },
  {
   "cell_type": "code",
   "execution_count": 4,
   "source": [
    "# Symbolic solving in Z3 SMT solver\r\n",
    "c.result()\r\n"
   ],
   "outputs": [
    {
     "output_type": "stream",
     "name": "stdout",
     "text": [
      "static checking result =  sat\n",
      "static checking model =  [b = 11.4549197715?,\n",
      " a = 26.75,\n",
      " omega = 1.2695051120?,\n",
      " Kp = 611.6195752822?,\n",
      " Ki = 493.8382741642?,\n",
      " /0 = [(3.9120230054?, 0.8975401142?) -> 4.3586051960?,\n",
      "       else -> 0]]\n"
     ]
    }
   ],
   "metadata": {}
  },
  {
   "cell_type": "markdown",
   "source": [
    "Numeric static checking suggests that the design with solved zeta and omega_n met the requirement on settling time:"
   ],
   "metadata": {}
  },
  {
   "cell_type": "code",
   "execution_count": 5,
   "source": [
    "zeta = zeta\r\n",
    "omega_n = c.model(omega)\r\n",
    "c2 = checker.Checker(zeta,omega_n)\r\n",
    "\r\n",
    "f = c2.factory\r\n",
    "f.sigma = 0.02\r\n",
    "safety = f.settle < 5\r\n",
    "c2.auto_pog(safety)\r\n",
    "c2.result()"
   ],
   "outputs": [
    {
     "output_type": "stream",
     "name": "stdout",
     "text": [
      "static checking result =  unsat\n"
     ]
    }
   ],
   "metadata": {}
  },
  {
   "cell_type": "markdown",
   "source": [
    "We now plot to double check:"
   ],
   "metadata": {}
  },
  {
   "cell_type": "code",
   "execution_count": 6,
   "source": [
    "# get model\r\n",
    "v_omega = c.model(omega)\r\n",
    "v_Kp = c.model(Kp)\r\n",
    "v_Ki = c.model(Ki)\r\n",
    "\r\n",
    "# Hs\r\n",
    "Hs_num = [v_Kp, v_Ki]\r\n",
    "Hs_den = [1, 40, 375, v_Kp, v_Ki]\r\n",
    "Hs = lti(Hs_num, Hs_den)\r\n",
    "t, s = step(Hs)\r\n",
    "\r\n",
    "# Hs_hat\r\n",
    "Hs_hat_num = [v_omega*v_omega]\r\n",
    "Hs_hat_den = [1, 1.414*v_omega, v_omega*v_omega]\r\n",
    "Hs_hat = lti(Hs_hat_num, Hs_hat_den)\r\n",
    "t2, s2 = step(Hs_hat)\r\n"
   ],
   "outputs": [],
   "metadata": {}
  },
  {
   "cell_type": "code",
   "execution_count": 7,
   "source": [
    "# plot\r\n",
    "\r\n",
    "p.plot(t, s, label='Hs')\r\n",
    "p.plot(t2,s2, label='Hs_hat')\r\n",
    "p.xlabel('Time / s')\r\n",
    "p.legend()\r\n",
    "p.show()"
   ],
   "outputs": [
    {
     "output_type": "display_data",
     "data": {
      "image/png": "[encoded data removed]",
      "text/plain": [
       "<Figure size 432x288 with 1 Axes>"
      ]
     },
     "metadata": {
      "needs_background": "light"
     }
    }
   ],
   "metadata": {}
  },
  {
   "cell_type": "markdown",
   "source": [
    "From the figure, we see that both system roughly settled within 2% in less than 5 seconds. However, they behave different in the transient behaviors. This might due to the droping of high weight terms in Hs:"
   ],
   "metadata": {}
  },
  {
   "cell_type": "code",
   "execution_count": 8,
   "source": [
    "from scipy.signal import residue\r\n",
    "\r\n",
    "r,p,k = residue(Hs_num, Hs_den)\r\n",
    "print(f\"weights = {r}\")\r\n",
    "print(f\"poles = {p}\")"
   ],
   "outputs": [
    {
     "output_type": "stream",
     "name": "stdout",
     "text": [
      "weights = [ 1.13086901-0.01667968j  1.13086901+0.01667968j -3.78268701+0.j\n",
      "  1.520949  -0.j        ]\n",
      "poles = [ -0.90281761+0.8984358j  -0.90281761-0.8984358j -11.33253609+0.j\n",
      " -26.86182868+0.j       ]\n"
     ]
    }
   ],
   "metadata": {}
  },
  {
   "cell_type": "markdown",
   "source": [
    "As we can see, we dropped a pole at -11.33, whose weight (-3.78) is higher than the keeped pole at -0.9 (1.13)."
   ],
   "metadata": {}
  },
  {
   "cell_type": "markdown",
   "source": [
    "In summary, we use time-domain metrics estimations to represent a hybrid system design as a satifiable problem to aid its design process. We then apply numeric checking on the finished design to ensure its validity. This hybrid static checking enrich the applicability of our approach."
   ],
   "metadata": {}
  }
 ],
 "metadata": {
  "orig_nbformat": 4,
  "language_info": {
   "name": "python",
   "version": "3.8.2",
   "mimetype": "text/x-python",
   "codemirror_mode": {
    "name": "ipython",
    "version": 3
   },
   "pygments_lexer": "ipython3",
   "nbconvert_exporter": "python",
   "file_extension": ".py"
  },
  "kernelspec": {
   "name": "python3",
   "display_name": "Python 3.8.2 64-bit"
  },
  "interpreter": {
   "hash": "95ab7303ed2746327945aa376054eddca8c4eca362915ff95db932dbe7e7ee41"
  }
 },
 "nbformat": 4,
 "nbformat_minor": 2
}