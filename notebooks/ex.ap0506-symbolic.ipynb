{
 "cells": [
  {
   "cell_type": "code",
   "execution_count": 8,
   "source": [
    "import path\r\n",
    "import libs.checker as checker\r\n",
    "from control import *\r\n",
    "from z3 import *\r\n",
    "from scipy.signal import lti, step, impulse\r\n",
    "import scipy.signal as sig\r\n",
    "from matplotlib import pyplot as p"
   ],
   "outputs": [],
   "metadata": {}
  },
  {
   "cell_type": "markdown",
   "source": [
    "This example is borrowed and adapted from [1], advanced problem 5.6 on Pg. 358. Given a feedback closed-loop system, who transfer function is computed by:\n",
    "$$ H(s) = \\frac{K K_m}{s^2 + (K_m K_b+0.01) s + K K_m}$$\n",
    "\n",
    "select $K, K_b$ and $K_m$ so that steady-state error is equal to 1 to a ramp input.\n",
    "\n",
    "[1] Richard C.. Dorf, and Robert H. Bishop. Modern control systems. Pearson Prentice Hall, 2016. Pg. 359"
   ],
   "metadata": {}
  },
  {
   "cell_type": "markdown",
   "source": [
    "It is interesting in this case that we cannot directly apply final value theorem as the system does not have a steady state to a ramp input. However, the error is converging. Thus, we can apply final value theorem on the steady state error: "
   ],
   "metadata": {}
  },
  {
   "cell_type": "markdown",
   "source": [
    "$$e_{ss} = \\lim_{s=0} s E(s) = \\lim_{s=0} s(1-H(s)) R(s) = \\frac{K_m K_b + 0.01}{K K_m} = 1$$ "
   ],
   "metadata": {}
  },
  {
   "cell_type": "code",
   "execution_count": 9,
   "source": [
    "# Constants\r\n",
    "\r\n",
    "Km = Real('Km')\r\n",
    "Kb = Real('Kb')\r\n",
    "K = Real('K')\r\n",
    "omega = Real('omega')\r\n",
    "zeta = Real('zeta')\r\n",
    "\r\n",
    "# Setup\r\n",
    "f1 = omega * omega == K * Km\r\n",
    "f2 = Km*Kb+0.01 == 2 * zeta * omega\r\n",
    "safety = (Km*Kb+0.01) / (K * Km) == 1\r\n",
    "\r\n",
    "f3 = And(f1,f2,safety) # we want solve satisfication problem instead of validity problem here\r\n",
    "\r\n",
    "c = checker.Checker(zeta,omega)\r\n",
    "c.add(f3)\r\n",
    "\r\n"
   ],
   "outputs": [],
   "metadata": {}
  },
  {
   "cell_type": "code",
   "execution_count": 10,
   "source": [
    "# result\r\n",
    "c.result()"
   ],
   "outputs": [
    {
     "output_type": "stream",
     "name": "stdout",
     "text": [
      "static checking result =  sat\n",
      "static checking model =  [zeta = 0.0625,\n",
      " Km = 0.5,\n",
      " omega = 0.125,\n",
      " Kb = 0.01125,\n",
      " K = 0.03125,\n",
      " /0 = [(0.015625, 0.015625) -> 1, else -> 0]]\n"
     ]
    }
   ],
   "metadata": {}
  },
  {
   "cell_type": "code",
   "execution_count": 11,
   "source": [
    "# model extraction\r\n",
    "\r\n",
    "v_Km = c.model(Km)\r\n",
    "v_Kb = c.model(Kb)\r\n",
    "v_K = c.model(K)\r\n"
   ],
   "outputs": [],
   "metadata": {}
  },
  {
   "cell_type": "code",
   "execution_count": 12,
   "source": [
    "# transfer function construction\r\n",
    "\r\n",
    "# generate a time span of 1000 sec, with step of 0.1\r\n",
    "import numpy as np\r\n",
    "tspan = np.arange(0, 1000, 0.1).tolist()\r\n",
    "\r\n",
    "# sys to ramp ref\r\n",
    "\r\n",
    "a = v_K*v_Km\r\n",
    "b = v_Km*v_Kb+0.01\r\n",
    "\r\n",
    "Hs_num = [a]\r\n",
    "Hs_den = [1, b, a, 0, 0]\r\n",
    "Hs = lti(Hs_num, Hs_den)\r\n",
    "t, s = impulse(Hs, T=tspan)\r\n",
    "\r\n",
    "# ramp ref\r\n",
    "\r\n",
    "ramp_num = [1]\r\n",
    "ramp_den = [1, 0, 0]\r\n",
    "ramp = lti(ramp_num, ramp_den)\r\n",
    "t2, s2 = impulse(ramp, T=tspan)"
   ],
   "outputs": [],
   "metadata": {}
  },
  {
   "cell_type": "code",
   "execution_count": 13,
   "source": [
    "# plot\r\n",
    "\r\n",
    "p.plot(t, s, label='Hs')\r\n",
    "p.plot(t2,s2, label='Ramp')\r\n",
    "p.xlabel('Time / s')\r\n",
    "p.ylabel('Position / deg')\r\n",
    "p.legend()\r\n",
    "p.show()"
   ],
   "outputs": [
    {
     "output_type": "display_data",
     "data": {
      "image/png": "[encoded data removed]",
      "text/plain": [
       "<Figure size 432x288 with 1 Axes>"
      ]
     },
     "metadata": {
      "needs_background": "light"
     }
    }
   ],
   "metadata": {}
  },
  {
   "cell_type": "markdown",
   "source": [
    "As we can see from the plot, the system tracking the ramp input. We can also compute that its steady state error is about 1 towards time infinity:"
   ],
   "metadata": {}
  },
  {
   "cell_type": "code",
   "execution_count": 14,
   "source": [
    "# steady state error\r\n",
    "\r\n",
    "e = np.subtract(s,s2)[-10:]\r\n",
    "print(e)"
   ],
   "outputs": [
    {
     "output_type": "stream",
     "name": "stdout",
     "text": [
      "[-0.99700574 -0.99702466 -0.99704402 -0.99706381 -0.99708402 -0.99710466\n",
      " -0.99712572 -0.9971472  -0.99716908 -0.99719138]\n"
     ]
    }
   ],
   "metadata": {}
  },
  {
   "cell_type": "markdown",
   "source": [
    "In summary, we use time-domain metrics estimations to represent a hybrid system design as a satifiable problem to aid its design process. This enrich the applicability of our approach."
   ],
   "metadata": {}
  }
 ],
 "metadata": {
  "orig_nbformat": 4,
  "language_info": {
   "name": "python",
   "version": "3.8.2",
   "mimetype": "text/x-python",
   "codemirror_mode": {
    "name": "ipython",
    "version": 3
   },
   "pygments_lexer": "ipython3",
   "nbconvert_exporter": "python",
   "file_extension": ".py"
  },
  "kernelspec": {
   "name": "python3",
   "display_name": "Python 3.8.2 64-bit"
  },
  "interpreter": {
   "hash": "95ab7303ed2746327945aa376054eddca8c4eca362915ff95db932dbe7e7ee41"
  }
 },
 "nbformat": 4,
 "nbformat_minor": 2
}