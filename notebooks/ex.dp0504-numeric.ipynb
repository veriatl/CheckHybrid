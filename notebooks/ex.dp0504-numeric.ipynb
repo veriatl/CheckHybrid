{
 "cells": [
  {
   "cell_type": "code",
   "execution_count": 2,
   "source": [
    "import path\r\n",
    "import libs.checker as checker\r\n",
    "from control import *\r\n",
    "from z3 import *\r\n",
    "from scipy.signal import lti, step, impulse\r\n",
    "import scipy.signal as sig\r\n",
    "from matplotlib import pyplot as p"
   ],
   "outputs": [],
   "metadata": {}
  },
  {
   "cell_type": "markdown",
   "source": [
    "This example is borrowed and adapted from [1], design problem 5.4 on Pg. 360. The following transfer function represents the control system of a simplified space satellite to readjust its orientation:\n",
    "$$ L(s) = \\frac{10K}{(s+3)(s+7)(s+70)} = \\frac{10K/70}{(s+3)(s+7)(s/70+1)}$$\n",
    "\n",
    "[1] Richard C.. Dorf, and Robert H. Bishop. Modern control systems. Pearson Prentice Hall, 2016. Pg. 360"
   ],
   "metadata": {}
  },
  {
   "cell_type": "markdown",
   "source": [
    "With $K = 500$, does the system can expect steady state error $e_{ss} \\le 12\\%$ to a step input?"
   ],
   "metadata": {}
  },
  {
   "cell_type": "markdown",
   "source": [
    "By droping fast dynamics at pole $70$, and compensate for the dc gain, we have the following approximation:\n",
    "$$ \\hat{L}(s) = \\frac{K/7}{(s+3)(s+7)}$$"
   ],
   "metadata": {}
  },
  {
   "cell_type": "markdown",
   "source": [
    "The original closed-loop transfer function is given by:\n",
    "\n",
    "$$ H(s) = \\frac{L(s)}{1+L(s)} = \\frac{10K}{(s+3)(s+7)(s+70)+10K}$$"
   ],
   "metadata": {}
  },
  {
   "cell_type": "markdown",
   "source": [
    "The approximated closed-loop transfer function is given by:\n",
    "$$\\hat{H}(s) = \\frac{\\hat{L}(s)}{1+\\hat{L}(s)} = \\frac{K/7}{(s+3)(s+7)+K/7}$$ "
   ],
   "metadata": {}
  },
  {
   "cell_type": "code",
   "execution_count": 3,
   "source": [
    "# Constants\r\n",
    "K = 500\r\n",
    "r = 1\r\n",
    "\r\n",
    "# Original Transfer function\r\n",
    "Hs_num = [10*K]\r\n",
    "Hs_den = [1, 80, 721,1470+10*K]\r\n",
    "Hs = lti(Hs_num, Hs_den)\r\n",
    "t, s = step(Hs)\r\n",
    "\r\n",
    "# Approximated transfer function\r\n",
    "Hs_hat_num = [K/7]\r\n",
    "Hs_hat_den = [1, 10, 21+K/7]\r\n",
    "Hs_hat = lti(Hs_hat_num, Hs_hat_den)\r\n",
    "t2, s2 = step(Hs_hat)"
   ],
   "outputs": [],
   "metadata": {}
  },
  {
   "cell_type": "code",
   "execution_count": 4,
   "source": [
    "# Chars calculation\r\n",
    "wn_square = Hs_hat_den[-1]\r\n",
    "two_zeta_wn = Hs_hat_den[-2]\r\n",
    "\r\n",
    "omega_n = math.sqrt(wn_square)\r\n",
    "zeta = two_zeta_wn/(2*omega_n)\r\n",
    "\r\n",
    "print(f'zeta = {zeta}, omega_n = {omega_n}')\r\n"
   ],
   "outputs": [
    {
     "output_type": "stream",
     "name": "stdout",
     "text": [
      "zeta = 0.5200760852671171, omega_n = 9.613977919080709\n"
     ]
    }
   ],
   "metadata": {}
  },
  {
   "cell_type": "code",
   "execution_count": 5,
   "source": [
    "\r\n",
    "# Setup\r\n",
    "c = checker.Checker(zeta,omega_n,1)\r\n"
   ],
   "outputs": [],
   "metadata": {}
  },
  {
   "cell_type": "markdown",
   "source": [
    "As the given transfer function is not standard 2nd-order (i.e. with attenuated gain), the easiest way is to static checking it against attenuated safety requirement accordingly."
   ],
   "metadata": {}
  },
  {
   "cell_type": "code",
   "execution_count": 6,
   "source": [
    "\r\n",
    "# Safety\r\n",
    "f = c.factory\r\n",
    "factor = K / (K + 147) \r\n",
    "att_steady = f.steady * factor\r\n",
    "safety = And(att_steady-r <= 0.12, att_steady-r>=-0.12)\r\n",
    "\r\n",
    "# PO Generation\r\n",
    "c.auto_pog(safety)"
   ],
   "outputs": [],
   "metadata": {}
  },
  {
   "cell_type": "code",
   "execution_count": 7,
   "source": [
    "# Numerical Static Checking in Z3 SMT solver\r\n",
    "c.result()"
   ],
   "outputs": [
    {
     "output_type": "stream",
     "name": "stdout",
     "text": [
      "static checking result =  sat\n",
      "static checking model =  [y = Store(Store(Store(K(Real, 0.9), -38, 0),\n",
      "                 0.3825849601?,\n",
      "                 1.1476479137?),\n",
      "           7719,\n",
      "           0.1),\n",
      " ft = -38,\n",
      " t2 = 7719,\n",
      " input = 1,\n",
      " steady = 1,\n",
      " rise = 0.1792561163?,\n",
      " settle = 0.9210340371?,\n",
      " peak = 0.3825849601?,\n",
      " overshoot = 0.1476479137?,\n",
      " dc = 1]\n"
     ]
    }
   ],
   "metadata": {}
  },
  {
   "cell_type": "markdown",
   "source": [
    "Here, the solver return sat, which suggests a counter example is found. \r\n",
    "\r\n",
    "Let us first examine the approximated and the original transfer functions by plotting:"
   ],
   "metadata": {}
  },
  {
   "cell_type": "code",
   "execution_count": 8,
   "source": [
    "p.plot(t, s, label='Hs')\r\n",
    "p.plot(t2,s2, label='Hs_hat')\r\n",
    "p.xlabel('Time / s')\r\n",
    "p.ylabel('Orientation / deg')\r\n",
    "p.legend()\r\n",
    "p.show()\r\n"
   ],
   "outputs": [
    {
     "output_type": "display_data",
     "data": {
      "image/png": "[encoded data removed]",
      "text/plain": [
       "<Figure size 432x288 with 1 Axes>"
      ]
     },
     "metadata": {
      "needs_background": "light"
     }
    }
   ],
   "metadata": {}
  },
  {
   "cell_type": "markdown",
   "source": [
    "It shows the apprximation preserves the significant dynamics of the original one. \r\n",
    "\r\n",
    "Then, let us examing the counterexample, from the static checking result of the approximation, it suggests that we will expect the steady-state value of the original system is at $0.77$ (i.e. $23$% steady-state error), which is not within tolerable steady-state error range ($< 12$% w.r.t. step input of amplitute $1$)."
   ],
   "metadata": {}
  },
  {
   "cell_type": "code",
   "execution_count": 9,
   "source": [
    "stdy = c.model(f.steady)*factor\r\n",
    "print(f\"steady state = {stdy}, steady state error = {abs(stdy-r)}\")\r\n",
    "\r\n"
   ],
   "outputs": [
    {
     "output_type": "stream",
     "name": "stdout",
     "text": [
      "steady state = 0.7727975270479135, steady state error = 0.2272024729520865\n"
     ]
    }
   ],
   "metadata": {}
  }
 ],
 "metadata": {
  "orig_nbformat": 4,
  "language_info": {
   "name": "python",
   "version": "3.8.2",
   "mimetype": "text/x-python",
   "codemirror_mode": {
    "name": "ipython",
    "version": 3
   },
   "pygments_lexer": "ipython3",
   "nbconvert_exporter": "python",
   "file_extension": ".py"
  },
  "kernelspec": {
   "name": "python3",
   "display_name": "Python 3.8.2 64-bit"
  },
  "interpreter": {
   "hash": "95ab7303ed2746327945aa376054eddca8c4eca362915ff95db932dbe7e7ee41"
  }
 },
 "nbformat": 4,
 "nbformat_minor": 2
}