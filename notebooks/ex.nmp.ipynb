{
 "cells": [
  {
   "cell_type": "code",
   "execution_count": 1,
   "source": [
    "import path\r\n",
    "import libs.checker as checker\r\n",
    "from control import *\r\n",
    "from z3 import *\r\n",
    "from scipy.signal import lti, step\r\n",
    "import scipy.signal as sig\r\n",
    "from matplotlib import pyplot as p"
   ],
   "outputs": [],
   "metadata": {}
  },
  {
   "cell_type": "markdown",
   "source": [
    "This example demonstrates that it is often a bad idea to drop significant dynamics to perform static checking. \n",
    "\n",
    "Specifically, considering transfer function:\n",
    "$$\n",
    "H(s) = \\frac{-0.5s + 1}{s^2+3s+1}\n",
    "$$\n",
    "with the safety constraints of *y(t) >= 0*.\n",
    "\n",
    "We might be tempted to drop $-0.5s$ term to analyze a standard 2nd order function.\n",
    "$$\n",
    "\\hat{H}(s) = \\frac{1}{s^2+3s+1}\n",
    "$$\n"
   ],
   "metadata": {}
  },
  {
   "cell_type": "code",
   "execution_count": 2,
   "source": [
    "# Original Transfer function\r\n",
    "Hs_num = [-0.5, 1]\r\n",
    "Hs_den = [1, 1.9, 1]\r\n",
    "Hs = lti(Hs_num, Hs_den)\r\n",
    "tn, sn = step(Hs)\r\n",
    "\r\n",
    "# Approximated transfer function\r\n",
    "Hs_hat_num = [1]\r\n",
    "Hs_hat_den = [1, 1.9, 1]\r\n",
    "Hs_hat = lti(Hs_hat_num, Hs_hat_den)\r\n",
    "tm, sm = step(Hs_hat)"
   ],
   "outputs": [],
   "metadata": {}
  },
  {
   "cell_type": "code",
   "execution_count": 3,
   "source": [
    "# Chars calculation\r\n",
    "wn_square = Hs_hat_den[-1]\r\n",
    "two_zeta_wn = Hs_hat_den[-2]\r\n",
    "\r\n",
    "omega_n = math.sqrt(wn_square)\r\n",
    "zeta = two_zeta_wn/(2*omega_n)\r\n",
    "\r\n",
    "print(f'zeta = {zeta}, omega_n = {omega_n}')\r\n"
   ],
   "outputs": [
    {
     "output_type": "stream",
     "name": "stdout",
     "text": [
      "zeta = 0.95, omega_n = 1.0\n"
     ]
    }
   ],
   "metadata": {}
  },
  {
   "cell_type": "code",
   "execution_count": 4,
   "source": [
    "# Setup\r\n",
    "c = checker.Checker(zeta,omega_n)\r\n",
    "\r\n",
    "y = c.factory.y\r\n",
    "t = c.factory.t\r\n",
    "c.amp = 1\r\n",
    "r = c.amp\r\n",
    "safety = y[t] >= 0\r\n",
    "\r\n",
    "c.auto_pog(safety, c.factory.Lmin())"
   ],
   "outputs": [],
   "metadata": {}
  },
  {
   "cell_type": "code",
   "execution_count": 5,
   "source": [
    "# Numerical Static Checking in Z3 SMT solver\r\n",
    "c.result()"
   ],
   "outputs": [
    {
     "output_type": "stream",
     "name": "stdout",
     "text": [
      "static checking result =  unsat\n"
     ]
    }
   ],
   "metadata": {}
  },
  {
   "cell_type": "markdown",
   "source": [
    "We might be happy that static checking tells us the design satisfy the requirement. However, it does not, as our approximation drop the significant dynamics of orginal transfer function.\n",
    "\n",
    "Because the system exhibits what so called nonminimum-phase zero, i.e. a right hand zero in the complex plane at (0.5s - 1), which results a bizzare behavior that delays the system dynamics by first going to the wrong direction of the tracked reference. We can see this behavior by ploting the original system, and compared with the approximated transfer function: "
   ],
   "metadata": {}
  },
  {
   "cell_type": "code",
   "execution_count": 6,
   "source": [
    "p.plot(tn, sn, label='Hs')\r\n",
    "p.plot(tm, sm, label='Hs_hat')\r\n",
    "p.xlabel('Time / s')\r\n",
    "p.ylabel('Position / m')\r\n",
    "p.legend()\r\n",
    "p.show()"
   ],
   "outputs": [
    {
     "output_type": "display_data",
     "data": {
      "image/png": "[encoded data removed]",
      "text/plain": [
       "<Figure size 432x288 with 1 Axes>"
      ]
     },
     "metadata": {
      "needs_background": "light"
     }
    }
   ],
   "metadata": {}
  },
  {
   "cell_type": "markdown",
   "source": [
    "In summary, when static checking using our proposed approach, users should always make sure the approximation does not drop significant dynamics of the original system, by plotting or experimenting first. Because if not, the static checking result is less meaningful, and the user could try:\r\n",
    "   * re-approximate\r\n",
    "   * change the design or requirements\r\n",
    "   * change the time-interval to ignore the nonminimum phase dynamics for certain systems, e.g. lifting up an aircraft, as they persist for a very short time\r\n",
    "\r\n",
    "Otherwise, the user could review/fix the design further based on the checking result, and decide whether to perform more expensive design evaluation tasks next."
   ],
   "metadata": {}
  }
 ],
 "metadata": {
  "orig_nbformat": 4,
  "language_info": {
   "name": "python",
   "version": "3.8.2",
   "mimetype": "text/x-python",
   "codemirror_mode": {
    "name": "ipython",
    "version": 3
   },
   "pygments_lexer": "ipython3",
   "nbconvert_exporter": "python",
   "file_extension": ".py"
  },
  "kernelspec": {
   "name": "python3",
   "display_name": "Python 3.8.2 64-bit"
  },
  "interpreter": {
   "hash": "95ab7303ed2746327945aa376054eddca8c4eca362915ff95db932dbe7e7ee41"
  }
 },
 "nbformat": 4,
 "nbformat_minor": 2
}